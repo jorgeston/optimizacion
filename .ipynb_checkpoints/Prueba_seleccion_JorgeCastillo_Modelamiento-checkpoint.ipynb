{
 "cells": [
  {
   "cell_type": "markdown",
   "id": "35dfc998-c8e6-4d46-8f1c-c761f95ead69",
   "metadata": {},
   "source": [
    "# Prueba de selección DS optimizador - Alaya soluciones\n",
    "\n",
    "**Candidato:** Jorge Alexis Castillo Sepúlveda\n",
    "**Fecha:** 10 de julio de 2023\n",
    "\n",
    "## Preguntas de modelamiento y programación\n",
    "\n",
    "### Pregunta 1: Maximizando la utilidad de una línea aérea\n",
    "\n",
    "El problema planteado tiene las características para ser modelado como un problema de programación lineal. La función a optimizar es una función de utilidad, que se define como las ganancias menos los costos:\n",
    "\n",
    "$U=\\text{ganancias}-\\text{costos}$\n",
    "\n",
    "En donde las ganancias están dadas por los ingresos debido a la venta de asientos más los beneficios por cada azafata y auxiliar adicional sobre el mínimo, mientras que los costos están dados por el pago de salarios, la comida servida a los pasajeros y el mantenimiento. Es claro que las variables de la función de utilidad son el número de asientos vendios por cada clase, el número de azafatas y el número de auxiliares. Esta función de utilidad está restringida por la capacidad de asientos por clase, de personal, de espacio físico y la relación que debe existir entre personal y número de asientos de manera de garantizar un buen servicio. En lo que sigue, se detallan cada una de estas componentes.\n",
    "\n",
    "#### Variables\n",
    "\n",
    "Sean $x_1$, $x_2$ y $x_3$ el número de asientos vendidos en la clase primera, ejecutiva y económica, respectivamente, y sean $y_1$ e $y_2$ el número de azafatas y auxiliares.   \n",
    "En base a estas variables, podemos ir escribiendo las formulaciones de las componentes de la función de utilidad y las restricciones.\n",
    "\n",
    "\n",
    "#### Ganancias\n",
    "\n",
    "- Asientos: $2000x_1+1300x_2+900x_3$\n",
    "- Beneficios por cada azafata y auxiliar adicional sobre el mínimo: $100(y_1-8)+50(y_2-2)$. Se hace una traslación respecto a 8 y 2 en el numero de azafatas y auxiliars resp., ya que esos vaores son los mínimos exigido.\n",
    "\n",
    "#### Costos\n",
    "- Salarios: $200y_1+120y_2$\n",
    "- Comida: $80x_1+60x_2+50x_3$\n",
    "- Mantenimiento: $75000$ (es fijo y constante)\n",
    "\n",
    "#### Función objetivo\n",
    "\n",
    "Remplazando cada una de estas componentes en la expresión de la utilidad arriba, se tiene que la función a optimizar es\n",
    "\n",
    "$$U = 2000x_1+1300x_2+900x_3+100(y_1-8)+50(y_2-2)-(200y_1+120y_2+80x_1+60x_2+50x_3+75000)$$\n",
    "\n",
    "#### Restricciones\n",
    "\n",
    "- Capacidad de asientos para la clase primera: $25\\leq x_1 \\leq 45$\n",
    "- Capacidad de asientos para la clase ejecutiva: $80\\leq x_2 \\leq 100$\n",
    "- Capacidad de asientos para la clase económica: $120\\leq x_3\\leq 210$\n",
    "- Número de azafatas: $8\\leq y_1\\leq 18$\n",
    "- Número de auxiliares: $2\\leq y_2 \\leq 5$ \n",
    "- Espacio físico: $1.8\\cdot x_1+1.4\\cdot x_2+1\\cdot x_3\\leq 420$\n",
    "- Razón entre asientos y azafatas para buen servicio: $\\dfrac{x_1}{10}\\leq y_1$,$\\dfrac{x_2}{20}\\leq y_1$, $\\dfrac{x_3}{40}\\leq y_1$ \n",
    "- Razón entre asientos y auxiliares para buen servicio: $\\dfrac{x_1+x_2+x_3}{100}\\leq y_2$\n",
    "\n",
    "Además, es deseable que las variables $x_i$, $y_j$, con $i\\in \\{1,2,3\\}$, $j\\in \\{1,2\\}$ deben ser números naturales. \n",
    "\n",
    "\n",
    "#### Implementación \n",
    "\n",
    "Se usa la librería Pulp (ref: https://coin-or.github.io/pulp/index.html) para resolver este problema. Se debe tener especial cuidado con las restricciones que refieren a la razón entre asientos y personal, ya que la librería no soporta la operación de división entre variables de Pulp y números enteros. Para ello, se debe replantear el problema, eliminando las divisiones paa mantener la \"linealidad\" del problema. Por ejemplo, $\\dfrac{x_1}{10}\\leq y_1$ se debe rescribir como $x_1-10y_1\\leq  0$. Otro punto relevante es que el rango donde se definen de las variables (lowBound, upBound) se puede escribir en la definición de estas mismas y no como restricciones.\n",
    "\n",
    "El código que lo resuelve se muestra a continuación:\n"
   ]
  },
  {
   "cell_type": "code",
   "execution_count": 8,
   "id": "cd7041b0-3bf8-4908-a1d3-03fe78522924",
   "metadata": {},
   "outputs": [
    {
     "name": "stdout",
     "output_type": "stream",
     "text": [
      "Estado: Optimal\n",
      "Auxiliares = 4.0\n",
      "Azafatas = 8.0\n",
      "Economica = 199.0\n",
      "Ejecutiva = 100.0\n",
      "Primera = 45.0\n",
      "Utilidad máxima =  302570.0\n"
     ]
    }
   ],
   "source": [
    "from pulp import *\n",
    "\n",
    "# Definición del problema\n",
    "prob = LpProblem(\"Maximizando la utilidad de una línea aérea\", LpMaximize)\n",
    "\n",
    "# Definición de variables\n",
    "x1 = LpVariable(\"Primera\", 25, 45,LpInteger) # el segundo argumento indica que la variable debe ser un número entero \n",
    "x2 = LpVariable(\"Ejecutiva\", 80, 100,LpInteger)\n",
    "x3 = LpVariable(\"Economica\", 120, 210,LpInteger)\n",
    "y1 = LpVariable(\"Azafatas\", 8, 18,LpInteger)\n",
    "y2 = LpVariable(\"Auxiliares\", 2, 5,LpInteger)\n",
    "\n",
    "# Función objetivo\n",
    "prob += 2000*x1 + 1300*x2 + 900*x3+ (100*(y1-8) + 50*(y2-2)) - (200*y1 + 120*y2 + 80*x1 + 60*x2 + 50*x3 + 75000), \"U\"\n",
    "\n",
    "# Restricciones\n",
    "prob += 1.8*x1 + 1.4*x2 + x3 <= 420, \"Restricción_espacio_físico\"\n",
    "prob += x1 - 10*y1 <= 0, \"Razón entre azafatas y asientos de primera clase\"\n",
    "prob += x2 - 20*y1 <= 0, \"Razón entre azafatas y asientos de clase ejecutiva\"\n",
    "prob += x3 - 40*y1 <= 0, \"Razón entre azafatas y asientos de clase económica\"\n",
    "prob += x1 + x2 + x3 - 100*y2 <= 0, \"Razón entre auxiliares y total de asientos\"\n",
    "\n",
    "# Resolver el problema\n",
    "prob.solve()\n",
    "\n",
    "# Imprimir el resultado\n",
    "print(\"Estado:\", LpStatus[prob.status])\n",
    "for v in prob.variables():\n",
    "    print(v.name, \"=\", v.varValue)\n",
    "print(\"Utilidad máxima = \", value(prob.objective))\n"
   ]
  },
  {
   "cell_type": "markdown",
   "id": "2d9c4fa6-6e77-4abd-9638-7cb55c337475",
   "metadata": {},
   "source": [
    "Los resultados muestran que para maximizar la Utilidad de la línea aérea en el proceso de incorporación del nuevo avión, se deben contratar 4 auxiliars y 8 azafatas, y elavión debe tener 199 asientos de clase económica, 100 asientos de clase ejecutiva y 45 asientos de primera clase. La utilidad generada será de 302,570 dólares. Los resultados parecen ser intuitivos de acuerdo a lo que se conoce del negocio de las aerolíneas y características físicas de un avión. "
   ]
  },
  {
   "cell_type": "markdown",
   "id": "75af7434-c19b-4ba5-9e06-0336b494edc5",
   "metadata": {},
   "source": [
    "### Problema 2: Puzzle de alimentos"
   ]
  }
 ],
 "metadata": {
  "kernelspec": {
   "display_name": "Python 3 (ipykernel)",
   "language": "python",
   "name": "python3"
  },
  "language_info": {
   "codemirror_mode": {
    "name": "ipython",
    "version": 3
   },
   "file_extension": ".py",
   "mimetype": "text/x-python",
   "name": "python",
   "nbconvert_exporter": "python",
   "pygments_lexer": "ipython3",
   "version": "3.9.7"
  }
 },
 "nbformat": 4,
 "nbformat_minor": 5
}
